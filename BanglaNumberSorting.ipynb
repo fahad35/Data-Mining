{
 "cells": [
  {
   "cell_type": "code",
   "execution_count": 129,
   "metadata": {},
   "outputs": [],
   "source": [
    "# Function to convert   \n",
    "def listToString(s):  \n",
    "    \n",
    "    # initialize an empty string \n",
    "    str1 = \"\"  \n",
    "    \n",
    "    # traverse in the string   \n",
    "    for ele in s:  \n",
    "        str1 += ele   \n",
    "    \n",
    "    # return string   \n",
    "    return str1  \n",
    "\n",
    "def listToInt(l):\n",
    "    li=[]\n",
    "    for i in l:\n",
    "        #print(i)\n",
    "        li.append(int(i))\n",
    "    return li"
   ]
  },
  {
   "cell_type": "code",
   "execution_count": 118,
   "metadata": {},
   "outputs": [],
   "source": [
    "banglaNumber=['১','২','৩','৪','৫','৬','৭','৮','৯','০']\n",
    "englishNumber=['1','2','3','4','5','6','7','8','9','0']"
   ]
  },
  {
   "cell_type": "code",
   "execution_count": 119,
   "metadata": {},
   "outputs": [],
   "source": [
    "#function to convert Bangla Number To English number\n",
    "def banglaNumberToEnglish(bn):\n",
    "    el=[]\n",
    "    n=0\n",
    "    inList=list(bn)\n",
    "    if len(inList)==1:\n",
    "        for i in range(0, len(banglaNumber)):\n",
    "            if(inList[0] == banglaNumber[i]):\n",
    "                el.append(englishNumber[i])\n",
    "                break\n",
    "    else:\n",
    "        for i in inList:\n",
    "            if(i==banglaNumber[n]):\n",
    "                el.append(englishNumber[n])\n",
    "            n += 1\n",
    "    inList.clear()\n",
    "    #print(f'inList after clear : {inList}')\n",
    "    en=listToString(el)\n",
    "    return en\n",
    "#function to convert english Number To Bangla number\n",
    "def englishNumberToBangla(en):\n",
    "    bl=[]\n",
    "    n=0\n",
    "    inList=list(en)\n",
    "    if len(inList)==1:\n",
    "        for i in range(0, len(englishNumber)):\n",
    "            if(inList[0] == englishNumber[i]):\n",
    "                bl.append(banglaNumber[i])\n",
    "                break\n",
    "    else:\n",
    "        for i in inList:\n",
    "            if(i==englishNumber[n]):\n",
    "                bl.append(banglaNumber[n])\n",
    "            n += 1\n",
    "    inList.clear()\n",
    "    #print(f'inList after clear : {inList}')\n",
    "    bn=listToString(el)\n",
    "    return bn"
   ]
  },
  {
   "cell_type": "code",
   "execution_count": 138,
   "metadata": {},
   "outputs": [],
   "source": [
    "def intListToString(ss):\n",
    "    sli=[]\n",
    "    for j in ss:\n",
    "        sli.append(str(j))\n",
    "    return sli"
   ]
  },
  {
   "cell_type": "code",
   "execution_count": 140,
   "metadata": {},
   "outputs": [
    {
     "name": "stdout",
     "output_type": "stream",
     "text": [
      "['1', '2', '3', '123']\n"
     ]
    }
   ],
   "source": [
    "unsortedBanglaNumber=['১২৩','৩','১','২',]\n",
    "enl=[]\n",
    "#enl.append(banglaNumberToEnglish('৩'))\n",
    "\n",
    "for i in unsortedBanglaNumber:\n",
    "    enl.append(banglaNumberToEnglish(i))\n",
    "\n",
    "#enl\n",
    "intEnl=listToInt(enl)\n",
    "intEnl\n",
    "sIntEnl=sorted(intEnl)\n",
    "unsortedBanglaNumber=intListToString(sIntEnl)\n",
    "print(unsortedBanglaNumber)"
   ]
  },
  {
   "cell_type": "code",
   "execution_count": null,
   "metadata": {},
   "outputs": [],
   "source": []
  },
  {
   "cell_type": "code",
   "execution_count": null,
   "metadata": {},
   "outputs": [],
   "source": []
  },
  {
   "cell_type": "code",
   "execution_count": null,
   "metadata": {},
   "outputs": [],
   "source": []
  }
 ],
 "metadata": {
  "kernelspec": {
   "display_name": "Python 3",
   "language": "python",
   "name": "python3"
  },
  "language_info": {
   "codemirror_mode": {
    "name": "ipython",
    "version": 3
   },
   "file_extension": ".py",
   "mimetype": "text/x-python",
   "name": "python",
   "nbconvert_exporter": "python",
   "pygments_lexer": "ipython3",
   "version": "3.7.3"
  }
 },
 "nbformat": 4,
 "nbformat_minor": 2
}
